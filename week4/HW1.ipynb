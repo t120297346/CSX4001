{
 "cells": [
  {
   "cell_type": "code",
   "execution_count": 4,
   "metadata": {},
   "outputs": [],
   "source": [
    "import csv\n",
    "import numpy as np\n",
    "import matplotlib.pyplot as plt\n",
    "import matplotlib"
   ]
  },
  {
   "cell_type": "markdown",
   "metadata": {},
   "source": [
    "將獲得的資料整理成一個dictionary方便之後擷取"
   ]
  },
  {
   "cell_type": "code",
   "execution_count": 5,
   "metadata": {},
   "outputs": [],
   "source": [
    "with open('F:\\\\Project\\\\data\\\\CLAIM.csv') as data:\n",
    "    raw_data = csv.reader(data)\n",
    "    header = next(raw_data)\n",
    "    data = {}\n",
    "    \n",
    "    for i in range(len(header)):\n",
    "        data[header[i]] = []\n",
    "    \n",
    "    while True:\n",
    "        try:\n",
    "            row = next(raw_data)\n",
    "            for i in range(len(row)):\n",
    "                if row[i] == '':\n",
    "                    row[i] = 0\n",
    "                data[header[i]].append(row[i])\n",
    "        except:\n",
    "            break    "
   ]
  },
  {
   "cell_type": "markdown",
   "metadata": {},
   "source": [
    "取出年齡段來看宇再購保單之間的關係"
   ]
  },
  {
   "cell_type": "code",
   "execution_count": 13,
   "metadata": {},
   "outputs": [
    {
     "data": {
      "image/png": "[encoded data removed]",
      "text/plain": [
       "<Figure size 720x720 with 1 Axes>"
      ]
     },
     "metadata": {
      "needs_background": "light"
     },
     "output_type": "display_data"
    },
    {
     "name": "stdout",
     "output_type": "stream",
     "text": [
      "再購人數：\n",
      "[('01.0~20Y', 983), ('02.21~40', 2014), ('03.41~60', 603), ('04.61Y+', 37)]\n",
      "買保險的總人數： \n",
      "[('01.0~20Y', 25953), ('02.21~40', 56623), ('03.41~60', 24051), ('04.61Y+', 984)]\n",
      "每個年齡段的再購比例\n",
      "[('01.0~20Y', '0.038'), ('02.21~40', '0.036'), ('03.41~60', '0.025'), ('04.61Y+', '0.038')]\n"
     ]
    }
   ],
   "source": [
    "age_range = {}\n",
    "n_age_range = {}\n",
    "for i in range(len(data[header[0]])):\n",
    "        if data['TYPE_CODE'][i] != 0:\n",
    "            if data[header[2]][i] not in age_range:\n",
    "                age_range[data[header[2]][i]] = 1\n",
    "            else:\n",
    "                age_range[data[header[2]][i]] += 1\n",
    "        else:\n",
    "            if data[header[2]][i] not in n_age_range:\n",
    "                n_age_range[data[header[2]][i]] = 1\n",
    "            else:\n",
    "                n_age_range[data[header[2]][i]] += 1\n",
    "\n",
    "age_range = sorted(age_range.items())\n",
    "n_age_range = sorted(n_age_range.items())\n",
    "\n",
    "fig = plt.figure(figsize = (10, 10))\n",
    "x = range(len(age_range))\n",
    "y_num = [item[1] for item in age_range]\n",
    "n_num = [item[1] for item in n_age_range]\n",
    "rects1 = plt.bar(x, height = y_num, width = 0.45, alpha = 0.8, color = 'green', label = \"Yes\")\n",
    "rects2 = plt.bar(x, height = n_num, width = 0.45, color = 'red', label=\"No\", bottom = y_num)\n",
    "plt.ylim(0, np.max(y_num) + np.max(n_num) + 1000)\n",
    "plt.ylabel(\"number of people\")\n",
    "plt.xticks(x, [item[0] for item in age_range])\n",
    "plt.xlabel(\"age_range\")\n",
    "plt.title(\"Fig1\")\n",
    "plt.legend()\n",
    "plt.show()\n",
    "ratios = []\n",
    "total = []\n",
    "for i in range(len(age_range)):\n",
    "    ratio = age_range[i][1] / (age_range[i][1] + n_age_range[i][1])\n",
    "    ratio = \"%0.3f\" % ratio\n",
    "    total.append((age_range[i][0], age_range[i][1] + n_age_range[i][1]))\n",
    "    ratios.append((age_range[i][0], ratio))\n",
    "print('再購人數：')\n",
    "print(age_range)\n",
    "print('買保險的總人數： ')\n",
    "print(total)\n",
    "print('每個年齡段的再購比例')\n",
    "print(ratios)"
   ]
  },
  {
   "cell_type": "markdown",
   "metadata": {},
   "source": [
    "從每個年齡段的再購比例來看，看不太出和再購有甚麼關係，但從直方圖可以推測保險公司是不太賣保險給60歲以上的人，而青壯年是主要的客群，所以我覺得可以分年齡段來分析每個階段的再購的人具有甚麼特徵。"
   ]
  }
 ],
 "metadata": {
  "kernelspec": {
   "display_name": "Python 3",
   "language": "python",
   "name": "python3"
  },
  "language_info": {
   "codemirror_mode": {
    "name": "ipython",
    "version": 3
   },
   "file_extension": ".py",
   "mimetype": "text/x-python",
   "name": "python",
   "nbconvert_exporter": "python",
   "pygments_lexer": "ipython3",
   "version": "3.6.8"
  }
 },
 "nbformat": 4,
 "nbformat_minor": 2
}
