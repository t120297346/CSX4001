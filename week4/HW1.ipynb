{
 "cells": [
  {
   "cell_type": "code",
   "execution_count": 14,
   "metadata": {},
   "outputs": [],
   "source": [
    "import csv\n",
    "import numpy as np\n",
    "import matplotlib.pyplot as plt\n",
    "import matplotlib"
   ]
  },
  {
   "cell_type": "markdown",
   "metadata": {},
   "source": [
    "將獲得的資料整理成一個dictionary方便之後擷取"
   ]
  },
  {
   "cell_type": "code",
   "execution_count": 39,
   "metadata": {},
   "outputs": [],
   "source": [
    "with open('F:\\\\Project\\\\data\\\\CLAIM.csv') as data:\n",
    "    raw_data = csv.reader(data)\n",
    "    header = next(raw_data)\n",
    "    data = {}\n",
    "    \n",
    "    for i in range(len(header)):\n",
    "        data[header[i]] = []\n",
    "    \n",
    "    while True:\n",
    "        try:\n",
    "            row = next(raw_data)\n",
    "            for i in range(len(row)):\n",
    "                if row[i] == '':\n",
    "                    row[i] = 'None'\n",
    "                data[header[i]].append(row[i])\n",
    "        except:\n",
    "            break    "
   ]
  },
  {
   "cell_type": "markdown",
   "metadata": {},
   "source": [
    "取出年齡段來看宇再購保單之間的關係"
   ]
  },
  {
   "cell_type": "code",
   "execution_count": 40,
   "metadata": {},
   "outputs": [
    {
     "data": {
      "image/png": "[encoded data removed]",
      "text/plain": [
       "<Figure size 720x720 with 1 Axes>"
      ]
     },
     "metadata": {
      "needs_background": "light"
     },
     "output_type": "display_data"
    },
    {
     "name": "stdout",
     "output_type": "stream",
     "text": [
      "再購人數：\n",
      "[('01.0~20Y', 983), ('02.21~40', 2014), ('03.41~60', 603), ('04.61Y+', 37)]\n",
      "買保險的總人數： \n",
      "[('01.0~20Y', 25953), ('02.21~40', 56623), ('03.41~60', 24051), ('04.61Y+', 984)]\n",
      "每個年齡段的再購比例\n",
      "[('01.0~20Y', '0.038'), ('02.21~40', '0.036'), ('03.41~60', '0.025'), ('04.61Y+', '0.038')]\n"
     ]
    }
   ],
   "source": [
    "age_range = {}\n",
    "n_age_range = {}\n",
    "for i in range(len(data[header[0]])):\n",
    "        if data['TYPE_CODE'][i] != 'None':\n",
    "            if data[header[2]][i] not in age_range:\n",
    "                age_range[data[header[2]][i]] = 1\n",
    "            else:\n",
    "                age_range[data[header[2]][i]] += 1\n",
    "        else:\n",
    "            if data[header[2]][i] not in n_age_range:\n",
    "                n_age_range[data[header[2]][i]] = 1\n",
    "            else:\n",
    "                n_age_range[data[header[2]][i]] += 1\n",
    "\n",
    "age_range = sorted(age_range.items())\n",
    "n_age_range = sorted(n_age_range.items())\n",
    "\n",
    "fig = plt.figure(figsize = (10, 10))\n",
    "x = range(len(age_range))\n",
    "y_num = [item[1] for item in age_range]\n",
    "n_num = [item[1] for item in n_age_range]\n",
    "rects1 = plt.bar(x, height = y_num, width = 0.45, alpha = 0.8, color = 'green', label = \"Yes\")\n",
    "rects2 = plt.bar(x, height = n_num, width = 0.45, color = 'red', label=\"No\", bottom = y_num)\n",
    "plt.ylim(0, np.max(y_num) + np.max(n_num) + 1000)\n",
    "plt.ylabel(\"number of people\")\n",
    "plt.xticks(x, [item[0] for item in age_range])\n",
    "plt.xlabel(\"age_range\")\n",
    "plt.title(\"Fig1\")\n",
    "plt.legend()\n",
    "plt.show()\n",
    "ratios = []\n",
    "total = []\n",
    "for i in range(len(age_range)):\n",
    "    ratio = age_range[i][1] / (age_range[i][1] + n_age_range[i][1])\n",
    "    ratio = \"%0.3f\" % ratio\n",
    "    total.append((age_range[i][0], age_range[i][1] + n_age_range[i][1]))\n",
    "    ratios.append((age_range[i][0], ratio))\n",
    "print('再購人數：')\n",
    "print(age_range)\n",
    "print('買保險的總人數： ')\n",
    "print(total)\n",
    "print('每個年齡段的再購比例')\n",
    "print(ratios)"
   ]
  },
  {
   "cell_type": "markdown",
   "metadata": {},
   "source": [
    "從每個年齡段的再購比例來看，看不太出和再購有甚麼關係，但從直方圖可以推測保險公司是不太賣保險給60歲以上的人，而青壯年是主要的客群，所以我覺得可以分年齡段來分析每個階段的再購的人具有甚麼特徵。"
   ]
  },
  {
   "cell_type": "code",
   "execution_count": 43,
   "metadata": {},
   "outputs": [
    {
     "name": "stdout",
     "output_type": "stream",
     "text": [
      "[('525', '30'), ('None', 'None'), ('42', '1'), ('None', 'None'), ('56', '5'), ('45', '5'), ('None', 'None'), ('12', '1'), ('None', 'None'), ('None', 'None'), ('None', 'None'), ('77', '3'), ('None', 'None'), ('31', '3'), ('None', 'None'), ('None', 'None'), ('0', '1'), ('None', 'None'), ('None', 'None'), ('None', 'None'), ('None', 'None'), ('None', 'None'), ('None', 'None'), ('95', '2'), ('None', 'None'), ('None', 'None'), ('50', '2'), ('2', '1'), ('None', 'None'), ('1', '1'), ('None', 'None'), ('13', '3'), ('0', '1'), ('1', '1'), ('None', 'None'), ('41', '2'), ('None', 'None')]\n",
      "[('69', '6'), ('9', '2'), ('None', 'None'), ('31', '3'), ('None', 'None'), ('None', 'None'), ('None', 'None'), ('None', 'None'), ('3', '3'), ('20', '2'), ('None', 'None'), ('31', '2'), ('4', '2'), ('None', 'None'), ('17', '1'), ('2', '4'), ('93', '1'), ('13', '1'), ('None', 'None'), ('None', 'None'), ('24', '3'), ('178', '2'), ('None', 'None'), ('None', 'None'), ('None', 'None'), ('None', 'None'), ('None', 'None'), ('None', 'None'), ('269', '4'), ('50', '1'), ('None', 'None'), ('None', 'None'), ('31', '1'), ('126', '12'), ('126', '12'), ('126', '12'), ('109', '1'), ('109', '1'), ('186', '4'), ('254', '9'), ('5', '1'), ('None', 'None'), ('42', '1'), ('None', 'None'), ('20', '3'), ('None', 'None'), ('38', '1'), ('None', 'None'), ('16', '2'), ('68', '5'), ('1', '1'), ('114', '1'), ('None', 'None'), ('48', '1'), ('5', '5'), ('None', 'None'), ('46', '6'), ('46', '6'), ('5', '1'), ('5', '1'), ('190', '1'), ('12', '3'), ('None', 'None'), ('190', '3'), ('3', '1'), ('84', '2'), ('121', '3'), ('121', '3'), ('6', '1'), ('2', '1'), ('88', '1'), ('6', '3'), ('479', '3'), ('None', 'None'), ('None', 'None'), ('None', 'None'), ('17', '3'), ('None', 'None'), ('123', '7'), ('30', '1'), ('None', 'None'), ('None', 'None'), ('91', '5'), ('91', '5'), ('None', 'None'), ('1093', '12'), ('191', '6'), ('4', '1'), ('4', '1'), ('44', '1'), ('None', 'None'), ('None', 'None'), ('25', '3'), ('None', 'None'), ('None', 'None'), ('126', '2'), ('126', '2'), ('107', '2'), ('21', '1'), ('93', '7'), ('113', '6'), ('None', 'None'), ('62', '7'), ('None', 'None'), ('None', 'None'), ('104', '2'), ('11', '1'), ('30', '2'), ('11', '2'), ('None', 'None'), ('None', 'None'), ('104', '9'), ('268', '9'), ('27', '6'), ('None', 'None'), ('486', '6'), ('None', 'None'), ('None', 'None'), ('None', 'None'), ('None', 'None'), ('None', 'None'), ('82', '2'), ('None', 'None'), ('8', '2'), ('8', '2'), ('86', '4'), ('56', '1'), ('178', '5'), ('75', '1'), ('48', '1'), ('None', 'None'), ('None', 'None'), ('None', 'None'), ('380', '6'), ('380', '6'), ('943', '18'), ('453', '17'), ('93', '6'), ('None', 'None'), ('1', '1'), ('184', '3'), ('184', '3'), ('None', 'None'), ('None', 'None'), ('None', 'None'), ('None', 'None'), ('None', 'None'), ('48', '2'), ('48', '2'), ('None', 'None'), ('None', 'None'), ('94', '1'), ('14', '2'), ('14', '2'), ('94', '4'), ('94', '4'), ('None', 'None'), ('9', '1'), ('146', '4'), ('None', 'None'), ('93', '10'), ('None', 'None'), ('None', 'None'), ('37', '4'), ('83', '1'), ('None', 'None'), ('None', 'None'), ('14', '3'), ('171', '5'), ('72', '1'), ('None', 'None'), ('None', 'None'), ('10', '2'), ('None', 'None'), ('137', '5'), ('7', '2'), ('None', 'None'), ('None', 'None'), ('None', 'None'), ('None', 'None'), ('12', '1'), ('37', '1'), ('37', '1'), ('69', '2'), ('69', '2'), ('271', '6'), ('24', '3'), ('None', 'None'), ('60', '2'), ('60', '2'), ('None', 'None'), ('None', 'None'), ('None', 'None'), ('54', '2'), ('233', '7'), ('None', 'None'), ('416', '11'), ('None', 'None'), ('None', 'None'), ('20', '1'), ('2', '2'), ('28', '1'), ('None', 'None'), ('1', '2'), ('13', '1'), ('None', 'None'), ('None', 'None'), ('86', '2'), ('86', '2'), ('86', '2'), ('55', '1'), ('19', '2'), ('None', 'None'), ('None', 'None'), ('88', '5'), ('15', '1'), ('None', 'None'), ('None', 'None'), ('125', '2'), ('None', 'None'), ('None', 'None'), ('143', '7'), ('45', '4'), ('176', '4'), ('176', '4'), ('168', '6'), ('44', '2'), ('56', '4'), ('142', '3'), ('None', 'None'), ('395', '11'), ('54', '5'), ('36', '1'), ('6', '1'), ('None', 'None'), ('None', 'None'), ('None', 'None'), ('11', '2'), ('20', '2'), ('None', 'None'), ('287', '2'), ('287', '2'), ('None', 'None'), ('40', '2'), ('None', 'None'), ('None', 'None'), ('None', 'None'), ('None', 'None'), ('553', '4'), ('None', 'None'), ('88', '3'), ('8', '1'), ('None', 'None'), ('19', '3'), ('510', '1'), ('510', '1'), ('46', '3'), ('46', '3'), ('30', '1'), ('15', '3'), ('None', 'None'), ('29', '2'), ('83', '3'), ('None', 'None'), ('None', 'None'), ('None', 'None'), ('263', '9'), ('None', 'None'), ('None', 'None'), ('9', '1'), ('None', 'None'), ('None', 'None'), ('None', 'None'), ('271', '6'), ('None', 'None'), ('None', 'None'), ('None', 'None'), ('86', '3'), ('128', '1'), ('None', 'None'), ('165', '1'), ('None', 'None'), ('None', 'None'), ('4', '1'), ('8', '1'), ('10', '2'), ('37', '2'), ('None', 'None'), ('None', 'None'), ('461', '31'), ('15', '1'), ('23', '3'), ('None', 'None'), ('145', '4'), ('None', 'None'), ('None', 'None'), ('None', 'None'), ('46', '1'), ('None', 'None'), ('None', 'None'), ('16', '4'), ('5', '1'), ('68', '4'), ('38', '2'), ('None', 'None'), ('37', '1'), ('110', '2'), ('None', 'None'), ('49', '2'), ('702', '8'), ('None', 'None'), ('122', '5'), ('None', 'None'), ('54', '2'), ('114', '3'), ('None', 'None'), ('None', 'None'), ('None', 'None'), ('193', '2'), ('212', '1'), ('None', 'None'), ('None', 'None'), ('109', '1'), ('250', '6'), ('None', 'None'), ('None', 'None'), ('None', 'None'), ('125', '1'), ('125', '1'), ('80', '5'), ('11', '2'), ('134', '8'), ('134', '8'), ('209', '6'), ('128', '3'), ('32', '1'), ('None', 'None'), ('2', '1'), ('None', 'None'), ('32', '2'), ('135', '5'), ('19', '2'), ('None', 'None'), ('240', '2'), ('21', '2'), ('1153', '9'), ('0', '1'), ('None', 'None'), ('None', 'None'), ('None', 'None'), ('None', 'None'), ('None', 'None'), ('None', 'None'), ('6', '1'), ('222', '8'), ('None', 'None'), ('1077', '12'), ('9', '2'), ('9', '2'), ('None', 'None'), ('31', '3'), ('None', 'None'), ('9', '1'), ('None', 'None'), ('8', '1'), ('387', '1'), ('None', 'None'), ('51', '1'), ('None', 'None'), ('22', '1'), ('22', '1'), ('22', '1'), ('7', '1'), ('None', 'None'), ('None', 'None'), ('None', 'None'), ('None', 'None'), ('243', '18'), ('6', '1'), ('None', 'None'), ('15', '1'), ('93', '1'), ('93', '1'), ('44', '4'), ('0', '1'), ('None', 'None'), ('102', '2'), ('None', 'None'), ('None', 'None'), ('None', 'None'), ('None', 'None'), ('26', '2'), ('None', 'None'), ('None', 'None'), ('None', 'None'), ('118', '2'), ('41', '2'), ('12', '2'), ('None', 'None'), ('200', '4'), ('None', 'None'), ('3', '1'), ('None', 'None'), ('8', '1'), ('23', '2'), ('None', 'None'), ('None', 'None'), ('184', '2'), ('67', '6'), ('None', 'None'), ('138', '1'), ('138', '1'), ('None', 'None'), ('None', 'None'), ('None', 'None'), ('None', 'None'), ('None', 'None'), ('25', '1'), ('110', '2'), ('14', '2'), ('23', '1'), ('82', '3'), ('None', 'None'), ('None', 'None'), ('6', '1'), ('None', 'None'), ('None', 'None'), ('4', '1'), ('None', 'None'), ('None', 'None'), ('40', '7'), ('40', '7'), ('None', 'None'), ('None', 'None'), ('21', '3'), ('None', 'None'), ('58', '2'), ('None', 'None'), ('None', 'None'), ('105', '11'), ('105', '11'), ('None', 'None'), ('None', 'None'), ('36', '3'), ('None', 'None'), ('None', 'None'), ('None', 'None'), ('66', '2'), ('66', '2'), ('498', '15'), ('498', '15'), ('498', '15'), ('None', 'None'), ('2', '1'), ('None', 'None'), ('83', '2'), ('20', '1'), ('87', '3'), ('87', '3'), ('24', '4'), ('74', '10'), ('20', '1'), ('88', '1'), ('None', 'None'), ('14', '2'), ('14', '2'), ('None', 'None'), ('None', 'None'), ('127', '4'), ('127', '4'), ('127', '4'), ('127', '4'), ('43', '10'), ('304', '17'), ('34', '1'), ('10', '1'), ('4', '2'), ('None', 'None'), ('147', '2'), ('None', 'None'), ('None', 'None'), ('None', 'None'), ('29', '2'), ('93', '3'), ('20', '1'), ('None', 'None'), ('19', '3'), ('None', 'None'), ('65', '5'), ('495', '5'), ('495', '5'), ('43', '2'), ('42', '3'), ('None', 'None'), ('284', '8'), ('89', '10'), ('89', '10'), ('2369', '10'), ('62', '4'), ('9', '1'), ('70', '1'), ('1', '1'), ('0', '1'), ('16', '3'), ('301', '9'), ('None', 'None'), ('None', 'None'), ('None', 'None'), ('296', '2'), ('115', '2'), ('None', 'None'), ('None', 'None'), ('424', '24'), ('424', '24'), ('2', '2'), ('None', 'None'), ('39', '7'), ('85', '3'), ('80', '3'), ('None', 'None'), ('None', 'None'), ('None', 'None'), ('None', 'None'), ('None', 'None'), ('None', 'None'), ('9', '2'), ('97', '7'), ('None', 'None'), ('24', '1'), ('29', '1'), ('25', '3'), ('54', '1'), ('86', '6'), ('24', '4'), ('1', '1'), ('729', '11'), ('99', '3'), ('88', '1'), ('88', '1'), ('None', 'None'), ('None', 'None'), ('None', 'None'), ('None', 'None'), ('1046', '8'), ('160', '8'), ('None', 'None'), ('1040', '13'), ('None', 'None'), ('49', '4'), ('25', '3'), ('7', '2'), ('None', 'None'), ('None', 'None'), ('25', '3'), ('44', '1'), ('44', '1'), ('44', '1'), ('10', '1'), ('16', '1'), ('109', '3'), ('None', 'None'), ('1', '1'), ('155', '1'), ('None', 'None'), ('33', '1'), ('178', '1'), ('1', '1'), ('None', 'None'), ('None', 'None'), ('None', 'None'), ('141', '4'), ('None', 'None'), ('None', 'None'), ('102', '3'), ('None', 'None'), ('None', 'None'), ('None', 'None'), ('31', '8'), ('None', 'None'), ('36', '3'), ('2', '1'), ('95', '2'), ('0', '1'), ('76', '2'), ('27', '2'), ('80', '3'), ('36', '3'), ('4', '2'), ('1', '1'), ('1', '1'), ('112', '4'), ('112', '4'), ('364', '6'), ('None', 'None'), ('None', 'None'), ('None', 'None'), ('1', '1'), ('191', '3'), ('None', 'None'), ('0', '1'), ('None', 'None'), ('None', 'None'), ('286', '4'), ('36', '1'), ('170', '1'), ('170', '1'), ('238', '2'), ('9', '1'), ('176', '5'), ('179', '4'), ('127', '3'), ('None', 'None'), ('0', '1'), ('11', '2'), ('11', '2'), ('11', '2'), ('187', '8'), ('187', '8'), ('187', '8'), ('3', '1'), ('100', '3'), ('35', '2'), ('None', 'None'), ('None', 'None'), ('None', 'None'), ('None', 'None'), ('311', '1'), ('83', '1'), ('None', 'None'), ('None', 'None'), ('None', 'None'), ('None', 'None'), ('46', '1'), ('123', '3'), ('107', '3'), ('85', '2'), ('29', '6'), ('1063', '13'), ('None', 'None'), ('36', '2'), ('None', 'None'), ('None', 'None'), ('None', 'None'), ('5', '1'), ('182', '5'), ('None', 'None'), ('None', 'None'), ('5572', '31'), ('5572', '31'), ('None', 'None'), ('10', '2'), ('None', 'None'), ('94', '2'), ('None', 'None'), ('30', '2'), ('30', '2'), ('None', 'None'), ('None', 'None'), ('None', 'None'), ('None', 'None'), ('None', 'None'), ('None', 'None'), ('None', 'None'), ('None', 'None'), ('33', '3'), ('0', '1'), ('211', '8'), ('None', 'None'), ('77', '2'), ('34', '1'), ('None', 'None'), ('8', '1'), ('323', '24'), ('None', 'None'), ('None', 'None'), ('12', '1'), ('None', 'None'), ('13', '3'), ('None', 'None'), ('250', '9'), ('250', '9'), ('10', '1'), ('None', 'None'), ('None', 'None'), ('8', '1'), ('55', '1'), ('55', '1'), ('67', '2'), ('56', '1'), ('148', '8'), ('None', 'None'), ('75', '2'), ('112', '2'), ('None', 'None'), ('None', 'None'), ('None', 'None'), ('None', 'None'), ('None', 'None'), ('121', '2'), ('None', 'None'), ('None', 'None'), ('None', 'None'), ('125', '7'), ('6', '3'), ('292', '10'), ('898', '39'), ('898', '39'), ('215', '9'), ('42', '2'), ('15', '1'), ('None', 'None'), ('None', 'None'), ('89', '6'), ('None', 'None'), ('70', '1'), ('144', '2'), ('None', 'None'), ('1', '1'), ('None', 'None'), ('29', '1'), ('None', 'None'), ('None', 'None'), ('212', '6'), ('468', '19'), ('468', '19'), ('37', '1'), ('None', 'None'), ('125', '2'), ('31', '1'), ('None', 'None'), ('1', '1'), ('8', '2'), ('None', 'None'), ('None', 'None'), ('16', '1'), ('None', 'None'), ('32', '2'), ('19', '1'), ('19', '1'), ('None', 'None'), ('103', '5'), ('34', '1'), ('104', '2'), ('None', 'None'), ('19', '2'), ('None', 'None'), ('None', 'None'), ('None', 'None'), ('124', '1'), ('30', '1'), ('None', 'None'), ('555', '40'), ('16', '1'), ('None', 'None'), ('2', '1'), ('2', '1'), ('100', '2'), ('10', '1'), ('71', '5'), ('71', '5'), ('None', 'None'), ('14', '1'), ('2', '1'), ('None', 'None'), ('None', 'None'), ('None', 'None'), ('None', 'None'), ('74', '4'), ('11', '3'), ('None', 'None'), ('377', '3'), ('None', 'None'), ('54', '1'), ('162', '2'), ('None', 'None'), ('35', '1'), ('140', '2'), ('197', '5'), ('None', 'None'), ('None', 'None'), ('645', '5'), ('645', '5'), ('None', 'None'), ('22', '3'), ('4', '1'), ('7', '3'), ('3', '1'), ('None', 'None'), ('17', '1'), ('None', 'None'), ('357', '4'), ('357', '4'), ('357', '4'), ('None', 'None'), ('143', '4'), ('143', '4'), ('33', '8'), ('None', 'None'), ('None', 'None'), ('None', 'None'), ('None', 'None'), ('35', '1'), ('None', 'None'), ('13', '1'), ('2', '3'), ('96', '2'), ('50', '1'), ('505', '5'), ('505', '5'), ('20', '1'), ('None', 'None'), ('None', 'None'), ('None', 'None'), ('1', '1'), ('None', 'None'), ('26', '2'), ('None', 'None'), ('None', 'None'), ('12', '1'), ('68', '6'), ('141', '5'), ('None', 'None'), ('0', '1'), ('21', '1'), ('21', '1'), ('58', '4'), ('None', 'None'), ('6', '1'), ('0', '1'), ('None', 'None'), ('13', '3'), ('None', 'None'), ('None', 'None'), ('50', '3'), ('None', 'None'), ('None', 'None'), ('None', 'None'), ('None', 'None'), ('None', 'None'), ('None', 'None'), ('None', 'None'), ('18', '1'), ('112', '4'), ('112', '4'), ('112', '4'), ('74', '1'), ('565', '18'), ('108', '5'), ('None', 'None'), ('None', 'None'), ('119', '7'), ('None', 'None'), ('13', '1'), ('0', '1'), ('10', '2'), ('10', '1'), ('10', '1'), ('12', '1'), ('None', 'None'), ('579', '10'), ('579', '10'), ('579', '10'), ('None', 'None'), ('25', '3'), ('13', '1'), ('13', '1'), ('None', 'None'), ('201', '8'), ('None', 'None'), ('7', '1'), ('87', '8'), ('None', 'None'), ('None', 'None'), ('116', '5'), ('None', 'None'), ('71', '4'), ('158', '3'), ('20', '1'), ('226', '1'), ('6', '1'), ('85', '6'), ('85', '6'), ('27', '4'), ('27', '4'), ('79', '5'), ('None', 'None'), ('195', '1'), ('195', '1'), ('221', '3'), ('178', '3'), ('36', '3'), ('None', 'None'), ('None', 'None'), ('19', '2'), ('19', '2'), ('None', 'None'), ('None', 'None'), ('None', 'None'), ('None', 'None'), ('16', '1'), ('4', '1'), ('1', '1'), ('46', '7'), ('174', '1'), ('None', 'None'), ('169', '1'), ('52', '3'), ('26', '2'), ('33', '1'), ('None', 'None'), ('None', 'None'), ('None', 'None'), ('None', 'None'), ('148', '1'), ('None', 'None'), ('None', 'None'), ('None', 'None'), ('None', 'None'), ('201', '1'), ('None', 'None'), ('None', 'None'), ('None', 'None'), ('None', 'None'), ('82', '2'), ('None', 'None'), ('None', 'None'), ('None', 'None'), ('9', '1'), ('None', 'None'), ('None', 'None'), ('1', '2'), ('0', '1'), ('None', 'None'), ('123', '6'), ('None', 'None'), ('95', '2'), ('62', '4'), ('106', '4'), ('None', 'None'), ('None', 'None'), ('95', '2'), ('None', 'None'), ('None', 'None'), ('161', '2'), ('298', '3'), ('298', '3'), ('6', '1')]\n"
     ]
    }
   ],
   "source": [
    "buy = []\n",
    "n_buy = []\n",
    "for i in range(len(data[header[0]])):\n",
    "        if data['TYPE_CODE'][i] != 'None' and  data['AGE_RANK'][i] == '04.61Y+':\n",
    "            buy.append((data['REIMB_AMT_5Y_K'][i], data['CountNo'][i]))\n",
    "        elif data['TYPE_CODE'][i] == 'None' and  data['AGE_RANK'][i] == '04.61Y+':\n",
    "            n_buy.append((data['REIMB_AMT_5Y_K'][i], data['CountNo'][i]))\n",
    "\n",
    "print(buy)\n",
    "print(n_buy)"
   ]
  },
  {
   "cell_type": "code",
   "execution_count": null,
   "metadata": {},
   "outputs": [],
   "source": []
  }
 ],
 "metadata": {
  "kernelspec": {
   "display_name": "Python 3",
   "language": "python",
   "name": "python3"
  },
  "language_info": {
   "codemirror_mode": {
    "name": "ipython",
    "version": 3
   },
   "file_extension": ".py",
   "mimetype": "text/x-python",
   "name": "python",
   "nbconvert_exporter": "python",
   "pygments_lexer": "ipython3",
   "version": "3.6.8"
  }
 },
 "nbformat": 4,
 "nbformat_minor": 2
}
