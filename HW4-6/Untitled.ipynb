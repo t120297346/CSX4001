{
 "cells": [
  {
   "cell_type": "markdown",
   "metadata": {},
   "source": [
    "## 小說爬蟲"
   ]
  },
  {
   "cell_type": "code",
   "execution_count": 18,
   "metadata": {},
   "outputs": [
    {
     "ename": "TypeError",
     "evalue": "write() argument must be str, not bytes",
     "output_type": "error",
     "traceback": [
      "\u001b[1;31m---------------------------------------------------------------------------\u001b[0m",
      "\u001b[1;31mTypeError\u001b[0m                                 Traceback (most recent call last)",
      "\u001b[1;32m<ipython-input-18-9745ec6fe2e3>\u001b[0m in \u001b[0;36m<module>\u001b[1;34m\u001b[0m\n\u001b[0;32m     24\u001b[0m         \u001b[0mnovel\u001b[0m\u001b[1;33m+=\u001b[0m\u001b[0ms\u001b[0m\u001b[1;33m.\u001b[0m\u001b[0mreplace\u001b[0m\u001b[1;33m(\u001b[0m\u001b[1;34m'(adsbygoogle = window.adsbygoogle || []).push({});'\u001b[0m\u001b[1;33m,\u001b[0m \u001b[1;34m''\u001b[0m\u001b[1;33m)\u001b[0m\u001b[1;33m\u001b[0m\u001b[1;33m\u001b[0m\u001b[0m\n\u001b[0;32m     25\u001b[0m \u001b[0mf\u001b[0m \u001b[1;33m=\u001b[0m \u001b[0mopen\u001b[0m\u001b[1;33m(\u001b[0m\u001b[1;34m'novel_2.txt'\u001b[0m\u001b[1;33m,\u001b[0m\u001b[1;34m'w'\u001b[0m\u001b[1;33m)\u001b[0m\u001b[1;33m\u001b[0m\u001b[1;33m\u001b[0m\u001b[0m\n\u001b[1;32m---> 26\u001b[1;33m \u001b[0mf\u001b[0m\u001b[1;33m.\u001b[0m\u001b[0mwrite\u001b[0m\u001b[1;33m(\u001b[0m\u001b[0mnovel\u001b[0m\u001b[1;33m.\u001b[0m\u001b[0mencode\u001b[0m\u001b[1;33m(\u001b[0m\u001b[1;34m'utf-8'\u001b[0m\u001b[1;33m)\u001b[0m\u001b[1;33m)\u001b[0m\u001b[1;33m\u001b[0m\u001b[1;33m\u001b[0m\u001b[0m\n\u001b[0m\u001b[0;32m     27\u001b[0m \u001b[0mf\u001b[0m\u001b[1;33m.\u001b[0m\u001b[0mclose\u001b[0m\u001b[1;33m\u001b[0m\u001b[1;33m\u001b[0m\u001b[0m\n\u001b[0;32m     28\u001b[0m '''\n",
      "\u001b[1;31mTypeError\u001b[0m: write() argument must be str, not bytes"
     ]
    }
   ],
   "source": [
    "import requests\n",
    "from bs4 import BeautifulSoup\n",
    "import types\n",
    "r = requests.get(\"http://big5.quanben.io/n/shediaoyingxiongzhuan/list.html\")\n",
    "\n",
    "soup = BeautifulSoup(r.text, \"html.parser\")\n",
    "#print(soup.prettify())\n",
    "\n",
    "link = []\n",
    "for table in soup.find_all(\"table\", {'class' : 'episodelist'}):\n",
    "    for tr in table.find_all('tr'):\n",
    "        for a in tr.find_all('a', href=True):\n",
    "            link.append('https://8book.com/' + a['href'])\n",
    "#print(link)\n",
    "\n",
    "# link = [\"https://8book.com/readbook/3/104043/271586.html\", \"https://8book.com/readbook/3/104043/271587.html\"]\n",
    "novel=''\n",
    "for i in range(len(link)):\n",
    "    r = requests.get(link[i])\n",
    "    r.encoding = 'big5'\n",
    "    soup = BeautifulSoup(r.text, \"html.parser\")\n",
    "    st = soup.find('p').stripped_strings\n",
    "    for s in st:\n",
    "        novel+=s.replace('(adsbygoogle = window.adsbygoogle || []).push({});', '')\n",
    "f = open('novel_2.txt','w')\n",
    "f.write(novel.encode('utf-8'))\n",
    "f.close\n",
    "'''\n",
    "# p = soup.select(\"p\", {'class' : 'content'})\n",
    "# print(p.text)\n",
    "#     for text in p.find_next_siblings('br'):\n",
    "#         print(text)\n",
    "\n",
    "#     for elem in p.recursiveChildGenerator():\n",
    "#         if isinstance(elem, types.StringTypes):\n",
    "#             text += elem\n",
    "#     print(text)\n",
    "#     novel += text\n",
    "'''"
   ]
  }
 ],
 "metadata": {
  "kernelspec": {
   "display_name": "Python 3",
   "language": "python",
   "name": "python3"
  },
  "language_info": {
   "codemirror_mode": {
    "name": "ipython",
    "version": 3
   },
   "file_extension": ".py",
   "mimetype": "text/x-python",
   "name": "python",
   "nbconvert_exporter": "python",
   "pygments_lexer": "ipython3",
   "version": "3.6.8"
  }
 },
 "nbformat": 4,
 "nbformat_minor": 2
}
